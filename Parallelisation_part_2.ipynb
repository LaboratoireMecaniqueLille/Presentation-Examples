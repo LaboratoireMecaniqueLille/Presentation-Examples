{
 "metadata": {
  "name": ""
 },
 "nbformat": 3,
 "nbformat_minor": 0,
 "worksheets": [
  {
   "cells": [
    {
     "cell_type": "heading",
     "level": 1,
     "metadata": {},
     "source": [
      "Communication inter-process"
     ]
    },
    {
     "cell_type": "heading",
     "level": 2,
     "metadata": {},
     "source": [
      "Les variables partag\u00e9es et Locks"
     ]
    },
    {
     "cell_type": "code",
     "collapsed": false,
     "input": [
      "import time\n",
      "from multiprocessing import Process, Array, Value, Pipe\n",
      "import numpy as np"
     ],
     "language": "python",
     "metadata": {},
     "outputs": [],
     "prompt_number": 1
    },
    {
     "cell_type": "heading",
     "level": 3,
     "metadata": {},
     "source": [
      "On cr\u00e9\u00e9 une fonction qui vient incr\u00e9menter la variable partag\u00e9e 50 fois:"
     ]
    },
    {
     "cell_type": "code",
     "collapsed": false,
     "input": [
      "def func(shared_value):\n",
      "    for i in range(50):\n",
      "        time.sleep(0.02)\n",
      "        shared_value.value += 1 # incr\u00e9mente la variable partag\u00e9e"
     ],
     "language": "python",
     "metadata": {},
     "outputs": [],
     "prompt_number": 2
    },
    {
     "cell_type": "heading",
     "level": 3,
     "metadata": {},
     "source": [
      "On lance ensuite 10 process qui vont incr\u00e9menter la variable simultan\u00e9ment :"
     ]
    },
    {
     "cell_type": "code",
     "collapsed": false,
     "input": [
      "proc={}\n",
      "shared_value=Value('i',0) # create a shared integer ('i') with initial value set to 0\n",
      "nb_proc=10\n",
      "\n",
      "try: # toujours mettre une boucle de getsion des exceptions !\n",
      "    for i in range(10): # on lance 10 fois l'essai\n",
      "        for i in range(nb_proc): # on cr\u00e9er chaque process et on les d\u00e9marre\n",
      "            proc[i]=Process(target=func,args=(shared_value,))\n",
      "            proc[i].start()\n",
      "        \n",
      "        for i in range(nb_proc):\n",
      "            proc[i].join() # This instruction blocks the execution of following code until process is done\n",
      "        \n",
      "        for i in range(nb_proc): # on termine les process pour \u00e9viter qu'ils continuent de tourner en arri\u00e8re plan\n",
      "            proc[i].terminate()\n",
      "        \n",
      "        print shared_value.value\n",
      "        shared_value.value=0\n",
      "except: # en cas de probl\u00e8me, terminer tous les process\n",
      "    for i in range(nb_proc):\n",
      "        proc[i].terminate()"
     ],
     "language": "python",
     "metadata": {},
     "outputs": [
      {
       "output_type": "stream",
       "stream": "stdout",
       "text": [
        "500\n"
       ]
      },
      {
       "output_type": "stream",
       "stream": "stdout",
       "text": [
        "487\n"
       ]
      },
      {
       "output_type": "stream",
       "stream": "stdout",
       "text": [
        "500\n"
       ]
      },
      {
       "output_type": "stream",
       "stream": "stdout",
       "text": [
        "441\n"
       ]
      },
      {
       "output_type": "stream",
       "stream": "stdout",
       "text": [
        "430\n"
       ]
      },
      {
       "output_type": "stream",
       "stream": "stdout",
       "text": [
        "459\n"
       ]
      },
      {
       "output_type": "stream",
       "stream": "stdout",
       "text": [
        "454\n"
       ]
      },
      {
       "output_type": "stream",
       "stream": "stdout",
       "text": [
        "466\n"
       ]
      },
      {
       "output_type": "stream",
       "stream": "stdout",
       "text": [
        "480\n"
       ]
      },
      {
       "output_type": "stream",
       "stream": "stdout",
       "text": [
        "439\n"
       ]
      }
     ],
     "prompt_number": 3
    },
    {
     "cell_type": "heading",
     "level": 3,
     "metadata": {},
     "source": [
      "Rajoutons un Lock !"
     ]
    },
    {
     "cell_type": "code",
     "collapsed": false,
     "input": [
      "def func_lock(shared_value):\n",
      "    try:\n",
      "        for i in range(50):\n",
      "            time.sleep(0.01)\n",
      "            shared_value.acquire()  # on acquiert le Lock associ\u00e9 naturellement \u00e0 la variable partag\u00e9e\n",
      "            shared_value.value += 1\n",
      "            shared_value.release() # ne pas oublier de le lib\u00e9rer quand on a fini\n",
      "    except:\n",
      "        shared_value.release() # if the programm crash, don't forget to release the Lock or your shared variable won't be readable again!"
     ],
     "language": "python",
     "metadata": {},
     "outputs": [],
     "prompt_number": 4
    },
    {
     "cell_type": "code",
     "collapsed": false,
     "input": [
      "proc={}\n",
      "shared_value=Value('i',0) # create a shared integer ('i') with initial value set to 0\n",
      "nb_proc=10\n",
      "\n",
      "try:\n",
      "    for i in range(10):\n",
      "        for i in range(nb_proc):\n",
      "            proc[i]=Process(target=func_lock,args=(shared_value,))\n",
      "            proc[i].start()\n",
      "        \n",
      "        for i in range(nb_proc):\n",
      "            proc[i].join() # This instruction blocks the execution of following code until process is done\n",
      "        \n",
      "        for i in range(nb_proc):\n",
      "            proc[i].terminate()\n",
      "        \n",
      "        print shared_value.value\n",
      "        shared_value.value=0\n",
      "except:\n",
      "    for i in range(nb_proc):\n",
      "        proc[i].terminate()"
     ],
     "language": "python",
     "metadata": {},
     "outputs": [
      {
       "output_type": "stream",
       "stream": "stdout",
       "text": [
        "500\n"
       ]
      },
      {
       "output_type": "stream",
       "stream": "stdout",
       "text": [
        "500\n"
       ]
      },
      {
       "output_type": "stream",
       "stream": "stdout",
       "text": [
        "500\n"
       ]
      },
      {
       "output_type": "stream",
       "stream": "stdout",
       "text": [
        "500\n"
       ]
      },
      {
       "output_type": "stream",
       "stream": "stdout",
       "text": [
        "500\n"
       ]
      },
      {
       "output_type": "stream",
       "stream": "stdout",
       "text": [
        "500\n"
       ]
      },
      {
       "output_type": "stream",
       "stream": "stdout",
       "text": [
        "500\n"
       ]
      },
      {
       "output_type": "stream",
       "stream": "stdout",
       "text": [
        "500\n"
       ]
      },
      {
       "output_type": "stream",
       "stream": "stdout",
       "text": [
        "500\n"
       ]
      },
      {
       "output_type": "stream",
       "stream": "stdout",
       "text": [
        "500\n"
       ]
      }
     ],
     "prompt_number": 5
    },
    {
     "cell_type": "heading",
     "level": 4,
     "metadata": {},
     "source": [
      "Le Lock \u00e9vite que plusieurs process essaient d'\u00e9crire simultan\u00e9ment sur la m\u00eame variable partag\u00e9e et corrompent les donn\u00e9es."
     ]
    },
    {
     "cell_type": "heading",
     "level": 3,
     "metadata": {},
     "source": [
      "Shared Array: "
     ]
    },
    {
     "cell_type": "code",
     "collapsed": false,
     "input": [
      "def func_lock_array(shared_array):\n",
      "    try:\n",
      "        for i in range(50):\n",
      "            time.sleep(0.01)\n",
      "            shared_array.acquire()  # on acquiert le Lock associ\u00e9 naturellement \u00e0 la variable partag\u00e9e\n",
      "            for i in range(len(shared_array)):\n",
      "                shared_array[i]+=1\n",
      "            shared_array.release() # ne pas oublier de le lib\u00e9rer quand on a fini\n",
      "    except:\n",
      "        shared_value.release() # if the programm crash, don't forget to release the Lock or your shared variable won't be readable again!"
     ],
     "language": "python",
     "metadata": {},
     "outputs": []
    },
    {
     "cell_type": "code",
     "collapsed": false,
     "input": [
      "proc={}\n",
      "shared_array=Array('i',[0]*5) # create a shared array of integer ('i') with 5 values.\n",
      "nb_proc=10\n",
      "\n",
      "try:\n",
      "\n",
      "    for i in range(nb_proc):\n",
      "        proc[i]=Process(target=func_lock_array,args=(shared_array,))\n",
      "        proc[i].start()\n",
      "        \n",
      "    for i in range(nb_proc):\n",
      "        proc[i].join() # This instruction blocks the execution of following code until process is done\n",
      "     \n",
      "    for i in range(nb_proc):\n",
      "         proc[i].terminate()\n",
      "     \n",
      "    print shared_array[:]\n",
      "\n",
      "except:\n",
      "    for i in range(nb_proc):\n",
      "        proc[i].terminate()"
     ],
     "language": "python",
     "metadata": {},
     "outputs": []
    },
    {
     "cell_type": "heading",
     "level": 2,
     "metadata": {},
     "source": [
      "Les pipes : "
     ]
    },
    {
     "cell_type": "code",
     "collapsed": false,
     "input": [
      "def writer(endpoint_A):\n",
      "    for i in range(118,163):\n",
      "        endpoint_A.send(i)\n",
      "        time.sleep(0.02)"
     ],
     "language": "python",
     "metadata": {},
     "outputs": [],
     "prompt_number": 6
    },
    {
     "cell_type": "code",
     "collapsed": false,
     "input": [
      "def reader(endpoint_B):\n",
      "    while True:\n",
      "        print \"Valeur re\u00e7ue : \", endpoint_B.recv()"
     ],
     "language": "python",
     "metadata": {},
     "outputs": [],
     "prompt_number": 7
    },
    {
     "cell_type": "code",
     "collapsed": false,
     "input": [
      "\n",
      "try:\n",
      "    endpoint_A, endpoint_B = Pipe() \n",
      "    a,b=Pipe()\n",
      "    \n",
      "    Writer=Process(target=writer,args=(endpoint_A,))\n",
      "    Reader=Process(target=reader,args=(endpoint_B,))\n",
      "    \n",
      "    Writer.start()\n",
      "    Reader.start()\n",
      "\n",
      "    Writer.join() # This instruction blocks the execution of following code until process is done\n",
      "    Reader.terminate()\n",
      "    Writer.terminate()\n",
      "except:\n",
      "    Reader.terminate()\n",
      "    Writer.terminate()\n",
      "        "
     ],
     "language": "python",
     "metadata": {},
     "outputs": [
      {
       "output_type": "stream",
       "stream": "stdout",
       "text": [
        "Valeur re\u00e7ue :  118\n",
        "Valeur re\u00e7ue :  119\n",
        "Valeur re\u00e7ue :  120\n",
        "Valeur re\u00e7ue :  121\n",
        "Valeur re\u00e7ue :  122\n",
        "Valeur re\u00e7ue :  123\n",
        "Valeur re\u00e7ue :  124\n",
        "Valeur re\u00e7ue :  125\n",
        "Valeur re\u00e7ue :  126\n",
        "Valeur re\u00e7ue :  127\n",
        "Valeur re\u00e7ue :  128\n",
        "Valeur re\u00e7ue :  129\n",
        "Valeur re\u00e7ue :  130\n",
        "Valeur re\u00e7ue :  131\n",
        "Valeur re\u00e7ue :  132\n",
        "Valeur re\u00e7ue :  133\n",
        "Valeur re\u00e7ue :  134\n",
        "Valeur re\u00e7ue :  135\n",
        "Valeur re\u00e7ue :  136\n",
        "Valeur re\u00e7ue :  137\n",
        "Valeur re\u00e7ue :  138\n",
        "Valeur re\u00e7ue :  139\n",
        "Valeur re\u00e7ue :  140\n",
        "Valeur re\u00e7ue :  141\n",
        "Valeur re\u00e7ue :  142\n",
        "Valeur re\u00e7ue :  143\n",
        "Valeur re\u00e7ue :  144\n",
        "Valeur re\u00e7ue :  145\n",
        "Valeur re\u00e7ue :  146\n",
        "Valeur re\u00e7ue :  147\n",
        "Valeur re\u00e7ue :  148\n",
        "Valeur re\u00e7ue :  149\n",
        "Valeur re\u00e7ue :  150\n",
        "Valeur re\u00e7ue :  151\n",
        "Valeur re\u00e7ue :  152\n",
        "Valeur re\u00e7ue :  153\n",
        "Valeur re\u00e7ue :  154\n",
        "Valeur re\u00e7ue :  155\n",
        "Valeur re\u00e7ue :  156\n",
        "Valeur re\u00e7ue :  157\n",
        "Valeur re\u00e7ue :  158\n",
        "Valeur re\u00e7ue :  159\n",
        "Valeur re\u00e7ue :  160\n",
        "Valeur re\u00e7ue :  161\n",
        "Valeur re\u00e7ue :  162\n"
       ]
      }
     ],
     "prompt_number": 8
    },
    {
     "cell_type": "code",
     "collapsed": false,
     "input": [
      "endpoint_A, endpoint_B = Pipe()\n",
      "endpoint_A.send(\"May the force be equal to mass times acceleration!\")\n",
      "endpoint_A.send(\"Message numero 2\")\n",
      "endpoint_A.send([[1,2,3],[4,5,6]])\n",
      "\n",
      "endpoint_B.recv()"
     ],
     "language": "python",
     "metadata": {},
     "outputs": [
      {
       "metadata": {},
       "output_type": "pyout",
       "prompt_number": 9,
       "text": [
        "'May the force be equal to mass times acceleration!'"
       ]
      }
     ],
     "prompt_number": 9
    },
    {
     "cell_type": "code",
     "collapsed": false,
     "input": [
      "endpoint_B.send(\"Answer = 42\")\n",
      "endpoint_A.recv()"
     ],
     "language": "python",
     "metadata": {},
     "outputs": [
      {
       "metadata": {},
       "output_type": "pyout",
       "prompt_number": 10,
       "text": [
        "'Answer = 42'"
       ]
      }
     ],
     "prompt_number": 10
    },
    {
     "cell_type": "code",
     "collapsed": false,
     "input": [
      "endpoint_B.recv()"
     ],
     "language": "python",
     "metadata": {},
     "outputs": [
      {
       "metadata": {},
       "output_type": "pyout",
       "prompt_number": 11,
       "text": [
        "'Message numero 2'"
       ]
      }
     ],
     "prompt_number": 11
    },
    {
     "cell_type": "code",
     "collapsed": false,
     "input": [
      "endpoint_B.recv()"
     ],
     "language": "python",
     "metadata": {},
     "outputs": [
      {
       "metadata": {},
       "output_type": "pyout",
       "prompt_number": 12,
       "text": [
        "[[1, 2, 3], [4, 5, 6]]"
       ]
      }
     ],
     "prompt_number": 12
    },
    {
     "cell_type": "code",
     "collapsed": false,
     "input": [
      "endpoint_B.writable\n"
     ],
     "language": "python",
     "metadata": {},
     "outputs": [
      {
       "metadata": {},
       "output_type": "pyout",
       "prompt_number": 14,
       "text": [
        "True"
       ]
      }
     ],
     "prompt_number": 14
    },
    {
     "cell_type": "code",
     "collapsed": false,
     "input": [],
     "language": "python",
     "metadata": {},
     "outputs": []
    }
   ],
   "metadata": {}
  }
 ]
}